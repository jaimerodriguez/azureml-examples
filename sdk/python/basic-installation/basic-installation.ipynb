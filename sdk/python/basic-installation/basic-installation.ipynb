{
 "cells": [
  {
   "cell_type": "markdown",
   "metadata": {},
   "source": [
    "# Notebook for basic installation of AML SDK v2\n",
    "\n",
    "### Objective\n",
    "\n",
    "This notebook intends to install and do a basic sanity of azure-ai-ml by listing the workspaces available in the resource group.\n",
    "\n",
    "## 1. Install the SDK for python"
   ]
  },
  {
   "cell_type": "code",
   "execution_count": 1,
   "metadata": {},
   "outputs": [
    {
     "name": "stdout",
     "output_type": "stream",
     "text": [
      "Requirement already satisfied: azure-ai-ml in .\\.venv\\lib\\site-packages (1.27.1)\n",
      "Requirement already satisfied: pyyaml<7.0.0,>=5.1.0 in .\\.venv\\lib\\site-packages (from azure-ai-ml) (6.0.2)\n",
      "Requirement already satisfied: msrest<1.0.0,>=0.6.18 in .\\.venv\\lib\\site-packages (from azure-ai-ml) (0.7.1)\n",
      "Requirement already satisfied: azure-core>=1.23.0 in .\\.venv\\lib\\site-packages (from azure-ai-ml) (1.34.0)\n",
      "Requirement already satisfied: azure-mgmt-core>=1.3.0 in .\\.venv\\lib\\site-packages (from azure-ai-ml) (1.5.0)\n",
      "Requirement already satisfied: marshmallow<4.0.0,>=3.5 in .\\.venv\\lib\\site-packages (from azure-ai-ml) (3.26.1)\n",
      "Requirement already satisfied: jsonschema<5.0.0,>=4.0.0 in .\\.venv\\lib\\site-packages (from azure-ai-ml) (4.24.0)\n",
      "Requirement already satisfied: tqdm<5.0.0 in .\\.venv\\lib\\site-packages (from azure-ai-ml) (4.67.1)\n",
      "Requirement already satisfied: strictyaml<2.0.0 in .\\.venv\\lib\\site-packages (from azure-ai-ml) (1.7.3)\n",
      "Requirement already satisfied: colorama<1.0.0 in .\\.venv\\lib\\site-packages (from azure-ai-ml) (0.4.6)\n",
      "Requirement already satisfied: pyjwt<3.0.0 in .\\.venv\\lib\\site-packages (from azure-ai-ml) (2.10.1)\n",
      "Requirement already satisfied: azure-storage-blob>=12.10.0 in .\\.venv\\lib\\site-packages (from azure-ai-ml) (12.25.1)\n",
      "Requirement already satisfied: azure-storage-file-share in .\\.venv\\lib\\site-packages (from azure-ai-ml) (12.21.0)\n",
      "Requirement already satisfied: azure-storage-file-datalake>=12.2.0 in .\\.venv\\lib\\site-packages (from azure-ai-ml) (12.20.0)\n",
      "Requirement already satisfied: pydash<9.0.0,>=6.0.0 in .\\.venv\\lib\\site-packages (from azure-ai-ml) (8.0.5)\n",
      "Requirement already satisfied: isodate<1.0.0 in .\\.venv\\lib\\site-packages (from azure-ai-ml) (0.7.2)\n",
      "Requirement already satisfied: azure-common>=1.1 in .\\.venv\\lib\\site-packages (from azure-ai-ml) (1.1.28)\n",
      "Requirement already satisfied: typing-extensions<5.0.0 in .\\.venv\\lib\\site-packages (from azure-ai-ml) (4.14.0)\n",
      "Requirement already satisfied: azure-monitor-opentelemetry in .\\.venv\\lib\\site-packages (from azure-ai-ml) (1.6.10)\n",
      "Requirement already satisfied: six>=1.11.0 in .\\.venv\\lib\\site-packages (from azure-ai-ml) (1.17.0)\n",
      "Requirement already satisfied: requests>=2.21.0 in .\\.venv\\lib\\site-packages (from azure-core>=1.23.0->azure-ai-ml) (2.32.4)\n",
      "Requirement already satisfied: cryptography>=2.1.4 in .\\.venv\\lib\\site-packages (from azure-storage-blob>=12.10.0->azure-ai-ml) (45.0.4)\n",
      "Requirement already satisfied: attrs>=22.2.0 in .\\.venv\\lib\\site-packages (from jsonschema<5.0.0,>=4.0.0->azure-ai-ml) (25.3.0)\n",
      "Requirement already satisfied: jsonschema-specifications>=2023.03.6 in .\\.venv\\lib\\site-packages (from jsonschema<5.0.0,>=4.0.0->azure-ai-ml) (2025.4.1)\n",
      "Requirement already satisfied: referencing>=0.28.4 in .\\.venv\\lib\\site-packages (from jsonschema<5.0.0,>=4.0.0->azure-ai-ml) (0.36.2)\n",
      "Requirement already satisfied: rpds-py>=0.7.1 in .\\.venv\\lib\\site-packages (from jsonschema<5.0.0,>=4.0.0->azure-ai-ml) (0.25.1)\n",
      "Requirement already satisfied: packaging>=17.0 in .\\.venv\\lib\\site-packages (from marshmallow<4.0.0,>=3.5->azure-ai-ml) (25.0)\n",
      "Requirement already satisfied: certifi>=2017.4.17 in .\\.venv\\lib\\site-packages (from msrest<1.0.0,>=0.6.18->azure-ai-ml) (2025.6.15)\n",
      "Requirement already satisfied: requests-oauthlib>=0.5.0 in .\\.venv\\lib\\site-packages (from msrest<1.0.0,>=0.6.18->azure-ai-ml) (2.0.0)\n",
      "Requirement already satisfied: python-dateutil>=2.6.0 in .\\.venv\\lib\\site-packages (from strictyaml<2.0.0->azure-ai-ml) (2.9.0.post0)\n",
      "Requirement already satisfied: azure-core-tracing-opentelemetry~=1.0.0b11 in .\\.venv\\lib\\site-packages (from azure-monitor-opentelemetry->azure-ai-ml) (1.0.0b12)\n",
      "Requirement already satisfied: azure-monitor-opentelemetry-exporter~=1.0.0b31 in .\\.venv\\lib\\site-packages (from azure-monitor-opentelemetry->azure-ai-ml) (1.0.0b39)\n",
      "Requirement already satisfied: opentelemetry-instrumentation-django<0.53b0,>=0.49b0 in .\\.venv\\lib\\site-packages (from azure-monitor-opentelemetry->azure-ai-ml) (0.52b1)\n",
      "Requirement already satisfied: opentelemetry-instrumentation-fastapi<0.53b0,>=0.49b0 in .\\.venv\\lib\\site-packages (from azure-monitor-opentelemetry->azure-ai-ml) (0.52b1)\n",
      "Requirement already satisfied: opentelemetry-instrumentation-flask<0.53b0,>=0.49b0 in .\\.venv\\lib\\site-packages (from azure-monitor-opentelemetry->azure-ai-ml) (0.52b1)\n",
      "Requirement already satisfied: opentelemetry-instrumentation-psycopg2<0.53b0,>=0.49b0 in .\\.venv\\lib\\site-packages (from azure-monitor-opentelemetry->azure-ai-ml) (0.52b1)\n",
      "Requirement already satisfied: opentelemetry-instrumentation-requests<0.53b0,>=0.49b0 in .\\.venv\\lib\\site-packages (from azure-monitor-opentelemetry->azure-ai-ml) (0.52b1)\n",
      "Requirement already satisfied: opentelemetry-instrumentation-urllib<0.53b0,>=0.49b0 in .\\.venv\\lib\\site-packages (from azure-monitor-opentelemetry->azure-ai-ml) (0.52b1)\n",
      "Requirement already satisfied: opentelemetry-instrumentation-urllib3<0.53b0,>=0.49b0 in .\\.venv\\lib\\site-packages (from azure-monitor-opentelemetry->azure-ai-ml) (0.52b1)\n",
      "Requirement already satisfied: opentelemetry-resource-detector-azure~=0.1.4 in .\\.venv\\lib\\site-packages (from azure-monitor-opentelemetry->azure-ai-ml) (0.1.5)\n",
      "Requirement already satisfied: opentelemetry-sdk<1.32,>=1.28.0 in .\\.venv\\lib\\site-packages (from azure-monitor-opentelemetry->azure-ai-ml) (1.31.1)\n",
      "Requirement already satisfied: opentelemetry-api>=1.12.0 in .\\.venv\\lib\\site-packages (from azure-core-tracing-opentelemetry~=1.0.0b11->azure-monitor-opentelemetry->azure-ai-ml) (1.31.1)\n",
      "Requirement already satisfied: azure-identity~=1.17 in .\\.venv\\lib\\site-packages (from azure-monitor-opentelemetry-exporter~=1.0.0b31->azure-monitor-opentelemetry->azure-ai-ml) (1.23.0)\n",
      "Requirement already satisfied: fixedint==0.1.6 in .\\.venv\\lib\\site-packages (from azure-monitor-opentelemetry-exporter~=1.0.0b31->azure-monitor-opentelemetry->azure-ai-ml) (0.1.6)\n",
      "Requirement already satisfied: psutil<8,>=5.9 in .\\.venv\\lib\\site-packages (from azure-monitor-opentelemetry-exporter~=1.0.0b31->azure-monitor-opentelemetry->azure-ai-ml) (7.0.0)\n",
      "Requirement already satisfied: cffi>=1.14 in .\\.venv\\lib\\site-packages (from cryptography>=2.1.4->azure-storage-blob>=12.10.0->azure-ai-ml) (1.17.1)\n",
      "Requirement already satisfied: opentelemetry-instrumentation-wsgi==0.52b1 in .\\.venv\\lib\\site-packages (from opentelemetry-instrumentation-django<0.53b0,>=0.49b0->azure-monitor-opentelemetry->azure-ai-ml) (0.52b1)\n",
      "Requirement already satisfied: opentelemetry-instrumentation==0.52b1 in .\\.venv\\lib\\site-packages (from opentelemetry-instrumentation-django<0.53b0,>=0.49b0->azure-monitor-opentelemetry->azure-ai-ml) (0.52b1)\n",
      "Requirement already satisfied: opentelemetry-semantic-conventions==0.52b1 in .\\.venv\\lib\\site-packages (from opentelemetry-instrumentation-django<0.53b0,>=0.49b0->azure-monitor-opentelemetry->azure-ai-ml) (0.52b1)\n",
      "Requirement already satisfied: opentelemetry-util-http==0.52b1 in .\\.venv\\lib\\site-packages (from opentelemetry-instrumentation-django<0.53b0,>=0.49b0->azure-monitor-opentelemetry->azure-ai-ml) (0.52b1)\n",
      "Requirement already satisfied: wrapt<2.0.0,>=1.0.0 in .\\.venv\\lib\\site-packages (from opentelemetry-instrumentation==0.52b1->opentelemetry-instrumentation-django<0.53b0,>=0.49b0->azure-monitor-opentelemetry->azure-ai-ml) (1.17.2)\n",
      "Requirement already satisfied: deprecated>=1.2.6 in .\\.venv\\lib\\site-packages (from opentelemetry-semantic-conventions==0.52b1->opentelemetry-instrumentation-django<0.53b0,>=0.49b0->azure-monitor-opentelemetry->azure-ai-ml) (1.2.18)\n",
      "Requirement already satisfied: importlib-metadata<8.7.0,>=6.0 in .\\.venv\\lib\\site-packages (from opentelemetry-api>=1.12.0->azure-core-tracing-opentelemetry~=1.0.0b11->azure-monitor-opentelemetry->azure-ai-ml) (8.6.1)\n",
      "Requirement already satisfied: opentelemetry-instrumentation-asgi==0.52b1 in .\\.venv\\lib\\site-packages (from opentelemetry-instrumentation-fastapi<0.53b0,>=0.49b0->azure-monitor-opentelemetry->azure-ai-ml) (0.52b1)\n",
      "Requirement already satisfied: asgiref~=3.0 in .\\.venv\\lib\\site-packages (from opentelemetry-instrumentation-asgi==0.52b1->opentelemetry-instrumentation-fastapi<0.53b0,>=0.49b0->azure-monitor-opentelemetry->azure-ai-ml) (3.8.1)\n",
      "Requirement already satisfied: opentelemetry-instrumentation-dbapi==0.52b1 in .\\.venv\\lib\\site-packages (from opentelemetry-instrumentation-psycopg2<0.53b0,>=0.49b0->azure-monitor-opentelemetry->azure-ai-ml) (0.52b1)\n",
      "Requirement already satisfied: charset_normalizer<4,>=2 in .\\.venv\\lib\\site-packages (from requests>=2.21.0->azure-core>=1.23.0->azure-ai-ml) (3.4.2)\n",
      "Requirement already satisfied: idna<4,>=2.5 in .\\.venv\\lib\\site-packages (from requests>=2.21.0->azure-core>=1.23.0->azure-ai-ml) (3.10)\n",
      "Requirement already satisfied: urllib3<3,>=1.21.1 in .\\.venv\\lib\\site-packages (from requests>=2.21.0->azure-core>=1.23.0->azure-ai-ml) (2.5.0)\n",
      "Requirement already satisfied: oauthlib>=3.0.0 in .\\.venv\\lib\\site-packages (from requests-oauthlib>=0.5.0->msrest<1.0.0,>=0.6.18->azure-ai-ml) (3.3.1)\n",
      "Requirement already satisfied: msal>=1.30.0 in .\\.venv\\lib\\site-packages (from azure-identity~=1.17->azure-monitor-opentelemetry-exporter~=1.0.0b31->azure-monitor-opentelemetry->azure-ai-ml) (1.32.3)\n",
      "Requirement already satisfied: msal-extensions>=1.2.0 in .\\.venv\\lib\\site-packages (from azure-identity~=1.17->azure-monitor-opentelemetry-exporter~=1.0.0b31->azure-monitor-opentelemetry->azure-ai-ml) (1.3.1)\n",
      "Requirement already satisfied: pycparser in .\\.venv\\lib\\site-packages (from cffi>=1.14->cryptography>=2.1.4->azure-storage-blob>=12.10.0->azure-ai-ml) (2.22)\n",
      "Requirement already satisfied: zipp>=3.20 in .\\.venv\\lib\\site-packages (from importlib-metadata<8.7.0,>=6.0->opentelemetry-api>=1.12.0->azure-core-tracing-opentelemetry~=1.0.0b11->azure-monitor-opentelemetry->azure-ai-ml) (3.23.0)\n",
      "Note: you may need to restart the kernel to use updated packages.\n"
     ]
    },
    {
     "name": "stderr",
     "output_type": "stream",
     "text": [
      "\n",
      "[notice] A new release of pip is available: 25.0.1 -> 25.1.1\n",
      "[notice] To update, run: python.exe -m pip install --upgrade pip\n"
     ]
    }
   ],
   "source": [
    "%pip install azure-ai-ml"
   ]
  },
  {
   "cell_type": "markdown",
   "metadata": {},
   "source": [
    "## 1.1. Import the required libraries"
   ]
  },
  {
   "cell_type": "code",
   "execution_count": 2,
   "metadata": {},
   "outputs": [],
   "source": [
    "# import required libraries\n",
    "from azure.ai.ml import MLClient\n",
    "from azure.ai.ml.entities import Workspace\n",
    "from azure.identity import DefaultAzureCredential\n",
    "import os "
   ]
  },
  {
   "cell_type": "markdown",
   "metadata": {},
   "source": [
    "## 1.2 Configure where jobs needs to be listed.\n",
    "Before listing workspaces, we need identifier parameters - a subscription and resource group. We will use these parameters to define the Azure Machine Learning client."
   ]
  },
  {
   "cell_type": "code",
   "execution_count": 3,
   "metadata": {
    "name": "subscription_id"
   },
   "outputs": [
    {
     "name": "stdout",
     "output_type": "stream",
     "text": [
      " Using dp-100-rg in ae44d481-2279-4672-943c-1a390e9a8a3b subscription\n"
     ]
    }
   ],
   "source": [
    "#load_dotenv() \n",
    "# Enter details of your subscription\n",
    "subscription_id = os.environ.get(\"AZURE_SUBSCRIPTION_ID\")\n",
    "resource_group = os.environ.get(\"AZURE_RESOURCE_GROUP\") \n",
    "tenant_id = os.environ.get(\"AZURE_TENANT_ID\")\n",
    "print (f\" Using {resource_group} in {subscription_id} subscription\") "
   ]
  },
  {
   "cell_type": "markdown",
   "metadata": {},
   "source": [
    "The `MLClient` from `azure.ai.ml` will be used to list the workspaces. We use the default [default azure authentication](https://docs.microsoft.com/en-us/python/api/azure-identity/azure.identity.defaultazurecredential?view=azure-python) for this tutorial. Check the [configuration notebook](../../jobs/configuration.ipynb) for more details on how to configure credentials and connect to a workspace."
   ]
  },
  {
   "cell_type": "code",
   "execution_count": 4,
   "metadata": {
    "name": "ml_client"
   },
   "outputs": [],
   "source": [
    "# get a handle to the subscription\n",
    "\n",
    "from azure.ai.ml import MLClient\n",
    "from azure.identity import DefaultAzureCredential\n",
    "\n",
    "ml_client = MLClient(DefaultAzureCredential( authority= \"https://login.windows.net/b7851c15-4773-4696-a061-46fba9a31bf5\" , interactive_browser_tenant_id = tenant_id, logging_enable=True), subscription_id, resource_group)"
   ]
  },
  {
   "cell_type": "markdown",
   "metadata": {},
   "source": [
    "## 1.3 Get a list of workspaces\n",
    "The `MLClient` can now be used to retrieve a list of workspaces within a resource group as shown below. "
   ]
  },
  {
   "cell_type": "code",
   "execution_count": 5,
   "metadata": {
    "name": "ws_name"
   },
   "outputs": [
    {
     "ename": "ClientAuthenticationError",
     "evalue": "(InvalidAuthenticationTokenTenant) The 'EvolvedSecurityTokenService' access token is from the wrong issuer 'https://sts.windows.net/2f962db5-d360-4ba5-a6da-b7a0f23c5834/'. It must match the tenant 'https://sts.windows.net/b7851c15-4773-4696-a061-46fba9a31bf5/' associated with this subscription. Please use the authority (URL) 'https://login.windows.net/b7851c15-4773-4696-a061-46fba9a31bf5' to get the token. Note, if the subscription is transferred to another tenant there is no impact to the services, but information about new tenant could take time to propagate (up to an hour). If you just transferred your subscription and see this error message, please try back later.\nCode: InvalidAuthenticationTokenTenant\nMessage: The 'EvolvedSecurityTokenService' access token is from the wrong issuer 'https://sts.windows.net/2f962db5-d360-4ba5-a6da-b7a0f23c5834/'. It must match the tenant 'https://sts.windows.net/b7851c15-4773-4696-a061-46fba9a31bf5/' associated with this subscription. Please use the authority (URL) 'https://login.windows.net/b7851c15-4773-4696-a061-46fba9a31bf5' to get the token. Note, if the subscription is transferred to another tenant there is no impact to the services, but information about new tenant could take time to propagate (up to an hour). If you just transferred your subscription and see this error message, please try back later.",
     "output_type": "error",
     "traceback": [
      "\u001b[31m---------------------------------------------------------------------------\u001b[39m",
      "\u001b[31mClientAuthenticationError\u001b[39m                 Traceback (most recent call last)",
      "\u001b[36mCell\u001b[39m\u001b[36m \u001b[39m\u001b[32mIn[5]\u001b[39m\u001b[32m, line 1\u001b[39m\n\u001b[32m----> \u001b[39m\u001b[32m1\u001b[39m \u001b[38;5;28;43;01mfor\u001b[39;49;00m\u001b[43m \u001b[49m\u001b[43mws\u001b[49m\u001b[43m \u001b[49m\u001b[38;5;129;43;01min\u001b[39;49;00m\u001b[43m \u001b[49m\u001b[43mml_client\u001b[49m\u001b[43m.\u001b[49m\u001b[43mworkspaces\u001b[49m\u001b[43m.\u001b[49m\u001b[43mlist\u001b[49m\u001b[43m(\u001b[49m\u001b[43m)\u001b[49m\u001b[43m:\u001b[49m\n\u001b[32m      2\u001b[39m \u001b[43m    \u001b[49m\u001b[38;5;28;43mprint\u001b[39;49m\u001b[43m(\u001b[49m\u001b[43mws\u001b[49m\u001b[43m.\u001b[49m\u001b[43mname\u001b[49m\u001b[43m)\u001b[49m\n",
      "\u001b[36mFile \u001b[39m\u001b[32mc:\\git\\jaimerodriguez\\azureml-examples\\sdk\\python\\basic-installation\\.venv\\Lib\\site-packages\\azure\\core\\paging.py:123\u001b[39m, in \u001b[36mItemPaged.__next__\u001b[39m\u001b[34m(self)\u001b[39m\n\u001b[32m    121\u001b[39m \u001b[38;5;28;01mif\u001b[39;00m \u001b[38;5;28mself\u001b[39m._page_iterator \u001b[38;5;129;01mis\u001b[39;00m \u001b[38;5;28;01mNone\u001b[39;00m:\n\u001b[32m    122\u001b[39m     \u001b[38;5;28mself\u001b[39m._page_iterator = itertools.chain.from_iterable(\u001b[38;5;28mself\u001b[39m.by_page())\n\u001b[32m--> \u001b[39m\u001b[32m123\u001b[39m \u001b[38;5;28;01mreturn\u001b[39;00m \u001b[38;5;28;43mnext\u001b[39;49m\u001b[43m(\u001b[49m\u001b[38;5;28;43mself\u001b[39;49m\u001b[43m.\u001b[49m\u001b[43m_page_iterator\u001b[49m\u001b[43m)\u001b[49m\n",
      "\u001b[36mFile \u001b[39m\u001b[32mc:\\git\\jaimerodriguez\\azureml-examples\\sdk\\python\\basic-installation\\.venv\\Lib\\site-packages\\azure\\core\\paging.py:75\u001b[39m, in \u001b[36mPageIterator.__next__\u001b[39m\u001b[34m(self)\u001b[39m\n\u001b[32m     73\u001b[39m     \u001b[38;5;28;01mraise\u001b[39;00m \u001b[38;5;167;01mStopIteration\u001b[39;00m(\u001b[33m\"\u001b[39m\u001b[33mEnd of paging\u001b[39m\u001b[33m\"\u001b[39m)\n\u001b[32m     74\u001b[39m \u001b[38;5;28;01mtry\u001b[39;00m:\n\u001b[32m---> \u001b[39m\u001b[32m75\u001b[39m     \u001b[38;5;28mself\u001b[39m._response = \u001b[38;5;28;43mself\u001b[39;49m\u001b[43m.\u001b[49m\u001b[43m_get_next\u001b[49m\u001b[43m(\u001b[49m\u001b[38;5;28;43mself\u001b[39;49m\u001b[43m.\u001b[49m\u001b[43mcontinuation_token\u001b[49m\u001b[43m)\u001b[49m\n\u001b[32m     76\u001b[39m \u001b[38;5;28;01mexcept\u001b[39;00m AzureError \u001b[38;5;28;01mas\u001b[39;00m error:\n\u001b[32m     77\u001b[39m     \u001b[38;5;28;01mif\u001b[39;00m \u001b[38;5;129;01mnot\u001b[39;00m error.continuation_token:\n",
      "\u001b[36mFile \u001b[39m\u001b[32mc:\\git\\jaimerodriguez\\azureml-examples\\sdk\\python\\basic-installation\\.venv\\Lib\\site-packages\\azure\\ai\\ml\\_restclient\\v2024_10_01_preview\\operations\\_workspaces_operations.py:775\u001b[39m, in \u001b[36mWorkspacesOperations.list_by_resource_group.<locals>.get_next\u001b[39m\u001b[34m(next_link)\u001b[39m\n\u001b[32m    772\u001b[39m response = pipeline_response.http_response\n\u001b[32m    774\u001b[39m \u001b[38;5;28;01mif\u001b[39;00m response.status_code \u001b[38;5;129;01mnot\u001b[39;00m \u001b[38;5;129;01min\u001b[39;00m [\u001b[32m200\u001b[39m]:\n\u001b[32m--> \u001b[39m\u001b[32m775\u001b[39m     \u001b[43mmap_error\u001b[49m\u001b[43m(\u001b[49m\u001b[43mstatus_code\u001b[49m\u001b[43m=\u001b[49m\u001b[43mresponse\u001b[49m\u001b[43m.\u001b[49m\u001b[43mstatus_code\u001b[49m\u001b[43m,\u001b[49m\u001b[43m \u001b[49m\u001b[43mresponse\u001b[49m\u001b[43m=\u001b[49m\u001b[43mresponse\u001b[49m\u001b[43m,\u001b[49m\u001b[43m \u001b[49m\u001b[43merror_map\u001b[49m\u001b[43m=\u001b[49m\u001b[43merror_map\u001b[49m\u001b[43m)\u001b[49m\n\u001b[32m    776\u001b[39m     error = \u001b[38;5;28mself\u001b[39m._deserialize.failsafe_deserialize(_models.ErrorResponse, pipeline_response)\n\u001b[32m    777\u001b[39m     \u001b[38;5;28;01mraise\u001b[39;00m HttpResponseError(response=response, model=error, error_format=ARMErrorFormat)\n",
      "\u001b[36mFile \u001b[39m\u001b[32mc:\\git\\jaimerodriguez\\azureml-examples\\sdk\\python\\basic-installation\\.venv\\Lib\\site-packages\\azure\\core\\exceptions.py:163\u001b[39m, in \u001b[36mmap_error\u001b[39m\u001b[34m(status_code, response, error_map)\u001b[39m\n\u001b[32m    161\u001b[39m     \u001b[38;5;28;01mreturn\u001b[39;00m\n\u001b[32m    162\u001b[39m error = error_type(response=response)\n\u001b[32m--> \u001b[39m\u001b[32m163\u001b[39m \u001b[38;5;28;01mraise\u001b[39;00m error\n",
      "\u001b[31mClientAuthenticationError\u001b[39m: (InvalidAuthenticationTokenTenant) The 'EvolvedSecurityTokenService' access token is from the wrong issuer 'https://sts.windows.net/2f962db5-d360-4ba5-a6da-b7a0f23c5834/'. It must match the tenant 'https://sts.windows.net/b7851c15-4773-4696-a061-46fba9a31bf5/' associated with this subscription. Please use the authority (URL) 'https://login.windows.net/b7851c15-4773-4696-a061-46fba9a31bf5' to get the token. Note, if the subscription is transferred to another tenant there is no impact to the services, but information about new tenant could take time to propagate (up to an hour). If you just transferred your subscription and see this error message, please try back later.\nCode: InvalidAuthenticationTokenTenant\nMessage: The 'EvolvedSecurityTokenService' access token is from the wrong issuer 'https://sts.windows.net/2f962db5-d360-4ba5-a6da-b7a0f23c5834/'. It must match the tenant 'https://sts.windows.net/b7851c15-4773-4696-a061-46fba9a31bf5/' associated with this subscription. Please use the authority (URL) 'https://login.windows.net/b7851c15-4773-4696-a061-46fba9a31bf5' to get the token. Note, if the subscription is transferred to another tenant there is no impact to the services, but information about new tenant could take time to propagate (up to an hour). If you just transferred your subscription and see this error message, please try back later."
     ]
    }
   ],
   "source": [
    "for ws in ml_client.workspaces.list():\n",
    "    print(ws.name)"
   ]
  }
 ],
 "metadata": {
  "description": {
   "description": "Create Azure ML workspace"
  },
  "kernelspec": {
   "display_name": ".venv",
   "language": "python",
   "name": "python3"
  },
  "language_info": {
   "codemirror_mode": {
    "name": "ipython",
    "version": 3
   },
   "file_extension": ".py",
   "mimetype": "text/x-python",
   "name": "python",
   "nbconvert_exporter": "python",
   "pygments_lexer": "ipython3",
   "version": "3.12.10"
  }
 },
 "nbformat": 4,
 "nbformat_minor": 4
}
